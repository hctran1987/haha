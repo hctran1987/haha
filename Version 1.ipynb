{
 "cells": [
  {
   "cell_type": "code",
   "execution_count": 10,
   "id": "2a29ca42",
   "metadata": {},
   "outputs": [],
   "source": [
    "import pandas as pd\n",
    "import numpy as np\n",
    "from pyvi import ViTokenizer, ViPosTagger\n",
    "from gensim.models import Word2Vec\n",
    "from sklearn.cluster import KMeans\n",
    "import matplotlib.pyplot as plt\n",
    "from sklearn.metrics import silhouette_score\n"
   ]
  },
  {
   "cell_type": "code",
   "execution_count": null,
   "id": "91ea0048",
   "metadata": {},
   "outputs": [],
   "source": [
    "################### Load and process data ##################"
   ]
  },
  {
   "cell_type": "code",
   "execution_count": 11,
   "id": "0b57a527",
   "metadata": {},
   "outputs": [],
   "source": [
    "#Load file\n",
    "\n",
    "with open('direction.csv', 'r') as temp_f:\n",
    "    # get No of columns in each line\n",
    "    col_count = [ len(l.split(\",\")) for l in temp_f.readlines() ]\n",
    "\n",
    "### Generate column names  (names will be 0, 1, 2, ..., maximum columns - 1)\n",
    "column_names = [i for i in range(0, max(col_count))]\n",
    "\n",
    "### Read csv\n",
    "df = pd.read_csv('direction.csv', header=None, delimiter=\",\", names=column_names)"
   ]
  },
  {
   "cell_type": "code",
   "execution_count": 12,
   "id": "c96f645f",
   "metadata": {},
   "outputs": [
    {
     "data": {
      "text/html": [
       "<div>\n",
       "<style scoped>\n",
       "    .dataframe tbody tr th:only-of-type {\n",
       "        vertical-align: middle;\n",
       "    }\n",
       "\n",
       "    .dataframe tbody tr th {\n",
       "        vertical-align: top;\n",
       "    }\n",
       "\n",
       "    .dataframe thead th {\n",
       "        text-align: right;\n",
       "    }\n",
       "</style>\n",
       "<table border=\"1\" class=\"dataframe\">\n",
       "  <thead>\n",
       "    <tr style=\"text-align: right;\">\n",
       "      <th></th>\n",
       "      <th>0</th>\n",
       "      <th>1</th>\n",
       "      <th>2</th>\n",
       "      <th>3</th>\n",
       "      <th>4</th>\n",
       "      <th>5</th>\n",
       "      <th>6</th>\n",
       "      <th>7</th>\n",
       "      <th>8</th>\n",
       "      <th>9</th>\n",
       "    </tr>\n",
       "  </thead>\n",
       "  <tbody>\n",
       "    <tr>\n",
       "      <th>0</th>\n",
       "      <td>Kc Phòng BCVT nghiên cứu áp dụng</td>\n",
       "      <td>NaN</td>\n",
       "      <td>NaN</td>\n",
       "      <td>NaN</td>\n",
       "      <td>NaN</td>\n",
       "      <td>NaN</td>\n",
       "      <td>NaN</td>\n",
       "      <td>NaN</td>\n",
       "      <td>NaN</td>\n",
       "      <td>NaN</td>\n",
       "    </tr>\n",
       "    <tr>\n",
       "      <th>1</th>\n",
       "      <td>Kc Phòng BCVT nghiên cứu, áp dụng</td>\n",
       "      <td>NaN</td>\n",
       "      <td>NaN</td>\n",
       "      <td>NaN</td>\n",
       "      <td>NaN</td>\n",
       "      <td>NaN</td>\n",
       "      <td>NaN</td>\n",
       "      <td>NaN</td>\n",
       "      <td>NaN</td>\n",
       "      <td>NaN</td>\n",
       "    </tr>\n",
       "    <tr>\n",
       "      <th>2</th>\n",
       "      <td>k.c các đ/c nghiên cứu áp dụng</td>\n",
       "      <td>NaN</td>\n",
       "      <td>NaN</td>\n",
       "      <td>NaN</td>\n",
       "      <td>NaN</td>\n",
       "      <td>NaN</td>\n",
       "      <td>NaN</td>\n",
       "      <td>NaN</td>\n",
       "      <td>NaN</td>\n",
       "      <td>NaN</td>\n",
       "    </tr>\n",
       "    <tr>\n",
       "      <th>3</th>\n",
       "      <td>Kc Phòng BCXB thực hiện công tác tuyên truyền</td>\n",
       "      <td>NaN</td>\n",
       "      <td>NaN</td>\n",
       "      <td>NaN</td>\n",
       "      <td>NaN</td>\n",
       "      <td>NaN</td>\n",
       "      <td>NaN</td>\n",
       "      <td>NaN</td>\n",
       "      <td>NaN</td>\n",
       "      <td>NaN</td>\n",
       "    </tr>\n",
       "    <tr>\n",
       "      <th>4</th>\n",
       "      <td>Đồng chí Quỳnh theo dõi. Áp dụng mẫu hướng dẫn...</td>\n",
       "      <td>NaN</td>\n",
       "      <td>NaN</td>\n",
       "      <td>NaN</td>\n",
       "      <td>NaN</td>\n",
       "      <td>NaN</td>\n",
       "      <td>NaN</td>\n",
       "      <td>NaN</td>\n",
       "      <td>NaN</td>\n",
       "      <td>NaN</td>\n",
       "    </tr>\n",
       "    <tr>\n",
       "      <th>...</th>\n",
       "      <td>...</td>\n",
       "      <td>...</td>\n",
       "      <td>...</td>\n",
       "      <td>...</td>\n",
       "      <td>...</td>\n",
       "      <td>...</td>\n",
       "      <td>...</td>\n",
       "      <td>...</td>\n",
       "      <td>...</td>\n",
       "      <td>...</td>\n",
       "    </tr>\n",
       "    <tr>\n",
       "      <th>18616</th>\n",
       "      <td>Kc đc Mừng chỉ đạo cụ thể.</td>\n",
       "      <td>NaN</td>\n",
       "      <td>NaN</td>\n",
       "      <td>NaN</td>\n",
       "      <td>NaN</td>\n",
       "      <td>NaN</td>\n",
       "      <td>NaN</td>\n",
       "      <td>NaN</td>\n",
       "      <td>NaN</td>\n",
       "      <td>NaN</td>\n",
       "    </tr>\n",
       "    <tr>\n",
       "      <th>18617</th>\n",
       "      <td>Kc đc Thảo PGĐ chỉ đạo cụ thể (thống nhất đề n...</td>\n",
       "      <td>NaN</td>\n",
       "      <td>NaN</td>\n",
       "      <td>NaN</td>\n",
       "      <td>NaN</td>\n",
       "      <td>NaN</td>\n",
       "      <td>NaN</td>\n",
       "      <td>NaN</td>\n",
       "      <td>NaN</td>\n",
       "      <td>NaN</td>\n",
       "    </tr>\n",
       "    <tr>\n",
       "      <th>18618</th>\n",
       "      <td>K/c các đ/c Tổ phúc tra biết để phúc tra kết q...</td>\n",
       "      <td>NaN</td>\n",
       "      <td>NaN</td>\n",
       "      <td>NaN</td>\n",
       "      <td>NaN</td>\n",
       "      <td>NaN</td>\n",
       "      <td>NaN</td>\n",
       "      <td>NaN</td>\n",
       "      <td>NaN</td>\n",
       "      <td>NaN</td>\n",
       "    </tr>\n",
       "    <tr>\n",
       "      <th>18619</th>\n",
       "      <td>Giao VP chủ trì tham mưu bổ sung biên chế cho TT</td>\n",
       "      <td>NaN</td>\n",
       "      <td>NaN</td>\n",
       "      <td>NaN</td>\n",
       "      <td>NaN</td>\n",
       "      <td>NaN</td>\n",
       "      <td>NaN</td>\n",
       "      <td>NaN</td>\n",
       "      <td>NaN</td>\n",
       "      <td>NaN</td>\n",
       "    </tr>\n",
       "    <tr>\n",
       "      <th>18620</th>\n",
       "      <td>K/c đ/c Vinh tham mưu (không thấy có hò sô gửi...</td>\n",
       "      <td>NaN</td>\n",
       "      <td>NaN</td>\n",
       "      <td>NaN</td>\n",
       "      <td>NaN</td>\n",
       "      <td>NaN</td>\n",
       "      <td>NaN</td>\n",
       "      <td>NaN</td>\n",
       "      <td>NaN</td>\n",
       "      <td>NaN</td>\n",
       "    </tr>\n",
       "  </tbody>\n",
       "</table>\n",
       "<p>18621 rows × 10 columns</p>\n",
       "</div>"
      ],
      "text/plain": [
       "                                                       0    1    2    3    4  \\\n",
       "0                       Kc Phòng BCVT nghiên cứu áp dụng  NaN  NaN  NaN  NaN   \n",
       "1                      Kc Phòng BCVT nghiên cứu, áp dụng  NaN  NaN  NaN  NaN   \n",
       "2                         k.c các đ/c nghiên cứu áp dụng  NaN  NaN  NaN  NaN   \n",
       "3          Kc Phòng BCXB thực hiện công tác tuyên truyền  NaN  NaN  NaN  NaN   \n",
       "4      Đồng chí Quỳnh theo dõi. Áp dụng mẫu hướng dẫn...  NaN  NaN  NaN  NaN   \n",
       "...                                                  ...  ...  ...  ...  ...   \n",
       "18616                         Kc đc Mừng chỉ đạo cụ thể.  NaN  NaN  NaN  NaN   \n",
       "18617  Kc đc Thảo PGĐ chỉ đạo cụ thể (thống nhất đề n...  NaN  NaN  NaN  NaN   \n",
       "18618  K/c các đ/c Tổ phúc tra biết để phúc tra kết q...  NaN  NaN  NaN  NaN   \n",
       "18619   Giao VP chủ trì tham mưu bổ sung biên chế cho TT  NaN  NaN  NaN  NaN   \n",
       "18620  K/c đ/c Vinh tham mưu (không thấy có hò sô gửi...  NaN  NaN  NaN  NaN   \n",
       "\n",
       "         5    6    7   8   9  \n",
       "0      NaN  NaN  NaN NaN NaN  \n",
       "1      NaN  NaN  NaN NaN NaN  \n",
       "2      NaN  NaN  NaN NaN NaN  \n",
       "3      NaN  NaN  NaN NaN NaN  \n",
       "4      NaN  NaN  NaN NaN NaN  \n",
       "...    ...  ...  ...  ..  ..  \n",
       "18616  NaN  NaN  NaN NaN NaN  \n",
       "18617  NaN  NaN  NaN NaN NaN  \n",
       "18618  NaN  NaN  NaN NaN NaN  \n",
       "18619  NaN  NaN  NaN NaN NaN  \n",
       "18620  NaN  NaN  NaN NaN NaN  \n",
       "\n",
       "[18621 rows x 10 columns]"
      ]
     },
     "execution_count": 12,
     "metadata": {},
     "output_type": "execute_result"
    }
   ],
   "source": [
    "#Check file\n",
    "df"
   ]
  },
  {
   "cell_type": "code",
   "execution_count": 13,
   "id": "27929f49",
   "metadata": {},
   "outputs": [],
   "source": [
    "# Obtain content collumn, drop null rows, clean text, and drop dublicates\n",
    "\n",
    "import re\n",
    "def clean_text(text):\n",
    "    text = re.sub('<.*?>', '', text)\n",
    "    text = re.sub(r'\\d{2}[-/]\\d{2}[-/]\\d{4}', '', text)\n",
    "    text = re.sub(r'\\d{2}:\\d{2}:\\d{2}', '', text)\n",
    "    text = re.sub(r'[/\\n\\r\\\\]', '', text)\n",
    "    text = re.sub(r'[-–()/\"#@;:<>{}`+=~|.!?,&“”%*⋅…]', ' ', text)\n",
    "    text = text.strip()\n",
    "    text = re.sub(r'(\\s)+', r'\\1', text)\n",
    "    text = re.sub(r'k.c', r'kc', text)# new command added \n",
    "    return text\n",
    "A=df[0].dropna().apply(clean_text).drop_duplicates()"
   ]
  },
  {
   "cell_type": "code",
   "execution_count": 14,
   "id": "20dd2d02",
   "metadata": {},
   "outputs": [
    {
     "data": {
      "text/plain": [
       "0                         Kc Phòng BCVT nghiên cứu áp dụng\n",
       "2                             kc các đc nghiên cứu áp dụng\n",
       "3            Kc Phòng BCXB thực hiện công tác tuyên truyền\n",
       "4        Đồng chí Quỳnh theo dõi Áp dụng mẫu hướng dẫn ...\n",
       "5        Kc Phòng CNTT nghiên cứu tham mưu các công việ...\n",
       "                               ...                        \n",
       "18615                           Kc đc Thảo sắp xếp tham dự\n",
       "18617    Kc đc Thảo PGĐ chỉ đạo cụ thể thống nhất đề ng...\n",
       "18618    Kc các đc Tổ phúc tra biết để phúc tra kết quả...\n",
       "18619     Giao VP chủ trì tham mưu bổ sung biên chế cho TT\n",
       "18620      Kc đc Vinh tham mưu không thấy có hò sô gửi kèm\n",
       "Name: 0, Length: 15899, dtype: object"
      ]
     },
     "execution_count": 14,
     "metadata": {},
     "output_type": "execute_result"
    }
   ],
   "source": [
    "# Check file\n",
    "A"
   ]
  },
  {
   "cell_type": "code",
   "execution_count": 15,
   "id": "bd5476ff",
   "metadata": {},
   "outputs": [],
   "source": [
    "# Remove row with empty text and reset row indices\n",
    "A = A[A != ''].reset_index(drop=True)"
   ]
  },
  {
   "cell_type": "code",
   "execution_count": 16,
   "id": "edbba8f6",
   "metadata": {},
   "outputs": [
    {
     "data": {
      "text/plain": [
       "0                         Kc Phòng BCVT nghiên cứu áp dụng\n",
       "1                             kc các đc nghiên cứu áp dụng\n",
       "2            Kc Phòng BCXB thực hiện công tác tuyên truyền\n",
       "3        Đồng chí Quỳnh theo dõi Áp dụng mẫu hướng dẫn ...\n",
       "4        Kc Phòng CNTT nghiên cứu tham mưu các công việ...\n",
       "                               ...                        \n",
       "15893                           Kc đc Thảo sắp xếp tham dự\n",
       "15894    Kc đc Thảo PGĐ chỉ đạo cụ thể thống nhất đề ng...\n",
       "15895    Kc các đc Tổ phúc tra biết để phúc tra kết quả...\n",
       "15896     Giao VP chủ trì tham mưu bổ sung biên chế cho TT\n",
       "15897      Kc đc Vinh tham mưu không thấy có hò sô gửi kèm\n",
       "Name: 0, Length: 15898, dtype: object"
      ]
     },
     "execution_count": 16,
     "metadata": {},
     "output_type": "execute_result"
    }
   ],
   "source": [
    "# Check file\n",
    "A"
   ]
  },
  {
   "cell_type": "code",
   "execution_count": 17,
   "id": "6af5ba90",
   "metadata": {},
   "outputs": [],
   "source": [
    "# Tokenize the text\n",
    "A = A.apply(lambda x: ViTokenizer.tokenize(x))"
   ]
  },
  {
   "cell_type": "code",
   "execution_count": 18,
   "id": "14642ee4",
   "metadata": {},
   "outputs": [
    {
     "data": {
      "text/plain": [
       "0                         Kc_Phòng BCVT nghiên_cứu áp_dụng\n",
       "1                             kc các đc nghiên_cứu áp_dụng\n",
       "2            Kc_Phòng BCXB thực_hiện công_tác tuyên_truyền\n",
       "3        Đồng_chí Quỳnh theo_dõi Áp_dụng mẫu hướng_dẫn ...\n",
       "4        Kc_Phòng CNTT nghiên_cứu tham_mưu các công_việ...\n",
       "                               ...                        \n",
       "15893                           Kc đc Thảo sắp_xếp tham_dự\n",
       "15894    Kc đc Thảo PGĐ chỉ_đạo_cụ_thể_thống_nhất đề_ng...\n",
       "15895    Kc các đc Tổ phúc_tra biết để phúc_tra kết_quả...\n",
       "15896     Giao VP chủ_trì tham_mưu bổ_sung biên_chế cho TT\n",
       "15897      Kc đc Vinh tham_mưu không thấy có hò sô gửi kèm\n",
       "Name: 0, Length: 15898, dtype: object"
      ]
     },
     "execution_count": 18,
     "metadata": {},
     "output_type": "execute_result"
    }
   ],
   "source": [
    "# Check file\n",
    "A"
   ]
  },
  {
   "cell_type": "code",
   "execution_count": 19,
   "id": "77c2c5ac",
   "metadata": {},
   "outputs": [],
   "source": [
    "# Reshape data before vectorizing\n",
    "A = np.array(A).reshape((-1,1))"
   ]
  },
  {
   "cell_type": "code",
   "execution_count": 20,
   "id": "36e3836c",
   "metadata": {},
   "outputs": [
    {
     "data": {
      "text/plain": [
       "array([['Kc_Phòng BCVT nghiên_cứu áp_dụng'],\n",
       "       ['kc các đc nghiên_cứu áp_dụng'],\n",
       "       ['Kc_Phòng BCXB thực_hiện công_tác tuyên_truyền'],\n",
       "       ...,\n",
       "       ['Kc các đc Tổ phúc_tra biết để phúc_tra kết_quả EGI'],\n",
       "       ['Giao VP chủ_trì tham_mưu bổ_sung biên_chế cho TT'],\n",
       "       ['Kc đc Vinh tham_mưu không thấy có hò sô gửi kèm']], dtype=object)"
      ]
     },
     "execution_count": 20,
     "metadata": {},
     "output_type": "execute_result"
    }
   ],
   "source": [
    "# Check file\n",
    "A"
   ]
  },
  {
   "cell_type": "code",
   "execution_count": 21,
   "id": "3305ac57",
   "metadata": {},
   "outputs": [],
   "source": [
    "vectorize = Word2Vec(A, min_count = 1, vector_size = 100, window = 5)\n",
    "data = np.array([vectorize.wv[x][0] for x in A])"
   ]
  },
  {
   "cell_type": "code",
   "execution_count": 22,
   "id": "0c9ccdd9",
   "metadata": {},
   "outputs": [
    {
     "data": {
      "text/plain": [
       "array([[ 0.00404749,  0.00486943,  0.00827777, ..., -0.00534159,\n",
       "        -0.000556  , -0.00806299],\n",
       "       [ 0.00131472, -0.00681747,  0.00407844, ..., -0.00339   ,\n",
       "        -0.00864475,  0.00208462],\n",
       "       [ 0.00646767,  0.00612571, -0.00096507, ..., -0.0087418 ,\n",
       "        -0.00218134,  0.00475457],\n",
       "       ...,\n",
       "       [ 0.00728475,  0.00889739, -0.00909818, ...,  0.00953346,\n",
       "         0.00405718, -0.00482929],\n",
       "       [-0.00988061,  0.00793305,  0.00774367, ..., -0.00213279,\n",
       "        -0.00363221,  0.00309752],\n",
       "       [ 0.00222701, -0.0075335 ,  0.00562835, ...,  0.00399103,\n",
       "        -0.00720319, -0.00212364]], dtype=float32)"
      ]
     },
     "execution_count": 22,
     "metadata": {},
     "output_type": "execute_result"
    }
   ],
   "source": [
    "# Check data\n",
    "data"
   ]
  },
  {
   "cell_type": "code",
   "execution_count": 23,
   "id": "ddf7ae95",
   "metadata": {},
   "outputs": [],
   "source": [
    "######################### Check K_means with number of clustering equals to 3 ########### "
   ]
  },
  {
   "cell_type": "code",
   "execution_count": 24,
   "id": "f40bb095",
   "metadata": {},
   "outputs": [],
   "source": [
    "# Fit data into the model\n",
    "k = 3\n",
    "model = KMeans(n_clusters = k)\n",
    "kmeans = model.fit(data)"
   ]
  },
  {
   "cell_type": "code",
   "execution_count": 25,
   "id": "3ae00511",
   "metadata": {},
   "outputs": [
    {
     "data": {
      "text/plain": [
       "array([[-1.83351469e-04,  2.54630722e-04, -3.19318176e-04,\n",
       "         3.46365501e-04, -3.63519473e-04,  4.89330210e-04,\n",
       "        -8.80009320e-04,  9.62915801e-05, -5.98294311e-04,\n",
       "         5.90462878e-04, -6.02704764e-04, -5.59769338e-04,\n",
       "        -4.40244854e-04,  6.99319586e-04, -7.09777873e-04,\n",
       "         8.03805015e-05,  1.56906771e-03, -1.34429534e-03,\n",
       "        -3.29454662e-04,  1.30197368e-04, -1.52966430e-04,\n",
       "        -4.13392438e-04,  1.02050246e-04, -2.09523016e-04,\n",
       "         1.10924162e-03,  1.68263796e-03, -1.07776921e-03,\n",
       "        -6.05920446e-04, -1.35202869e-03,  3.27268674e-04,\n",
       "        -4.44424339e-04,  5.10863261e-04, -1.47480168e-03,\n",
       "         9.06161149e-04, -1.26129409e-04, -9.51437250e-05,\n",
       "        -2.84396112e-04,  5.86095615e-04,  5.89007570e-04,\n",
       "        -1.07135403e-03,  2.19858950e-04, -2.67212483e-04,\n",
       "         1.85322933e-04,  6.71301619e-04,  4.78680508e-04,\n",
       "         4.72844928e-04, -6.98336633e-04,  3.35759512e-04,\n",
       "         1.09313510e-03,  1.21428235e-03, -1.43383877e-04,\n",
       "        -2.24388641e-05,  2.58802524e-04, -4.62073804e-04,\n",
       "         5.34663443e-04,  8.13050545e-04, -1.97698719e-05,\n",
       "         1.38602991e-04, -5.95515536e-04, -2.65417824e-04,\n",
       "        -1.62452995e-03, -4.78057278e-04, -8.34728533e-04,\n",
       "        -1.12788533e-04, -1.26005500e-04, -2.80105800e-04,\n",
       "        -4.55870293e-04,  9.91739682e-04, -4.95925953e-04,\n",
       "        -6.40417740e-04, -1.08681772e-04,  2.12236017e-04,\n",
       "        -3.31117626e-04, -8.95168865e-04, -1.20199387e-04,\n",
       "         6.18293940e-04,  4.61056334e-04,  6.32281182e-04,\n",
       "        -1.64557248e-04,  1.14177692e-05, -1.52606948e-03,\n",
       "         1.93850545e-04, -6.96107396e-04,  1.70593790e-04,\n",
       "        -1.98610913e-04, -5.44633600e-04,  7.19788484e-04,\n",
       "        -2.29741534e-04, -2.13544641e-04, -4.82041563e-04,\n",
       "        -3.93512164e-04,  5.43560527e-05, -4.61321499e-04,\n",
       "         4.52794447e-05,  1.06420415e-03,  8.47880438e-05,\n",
       "         3.97286873e-04, -5.96393540e-04,  9.18804377e-04,\n",
       "        -1.08550338e-03],\n",
       "       [ 3.44507513e-04,  3.76615935e-05,  1.41825213e-03,\n",
       "        -2.36405787e-04,  6.69711153e-04, -2.79463129e-04,\n",
       "        -9.15523677e-04, -2.53053659e-05,  9.47582768e-04,\n",
       "         1.90341801e-04,  5.70321106e-04,  1.52141030e-04,\n",
       "         5.16454340e-04,  2.14123633e-04,  1.56854035e-03,\n",
       "        -2.00527618e-04, -1.07206742e-03,  6.45926804e-04,\n",
       "         4.63960838e-04, -1.09304769e-04, -9.22471954e-05,\n",
       "         9.35865915e-04, -9.94679169e-04, -3.92124173e-04,\n",
       "        -3.89795547e-04, -5.54195780e-04, -6.33486023e-04,\n",
       "         1.02786662e-03,  2.94497877e-04, -8.08306795e-04,\n",
       "        -5.20635222e-04,  4.05540413e-05, -3.29580034e-05,\n",
       "         8.96107580e-04, -1.63771372e-04, -4.32095374e-04,\n",
       "         5.71485085e-04,  3.95251060e-04,  3.11975418e-05,\n",
       "         5.39645320e-04, -5.44546463e-04, -1.86593665e-04,\n",
       "         3.31248681e-04, -6.53096533e-04, -1.33570531e-04,\n",
       "        -6.13238371e-05,  6.78280601e-04,  8.86595444e-05,\n",
       "        -4.85076424e-04, -1.44977623e-03, -1.23656576e-03,\n",
       "        -6.04765606e-04,  1.48792809e-04,  8.20678833e-04,\n",
       "         1.11712623e-04, -8.21358815e-04,  2.66350573e-04,\n",
       "         3.61754181e-04,  3.23838554e-04,  5.15810156e-04,\n",
       "         2.35759700e-03,  5.31965052e-04, -1.28420303e-04,\n",
       "        -2.64138711e-04, -6.15440775e-04, -5.46670926e-04,\n",
       "        -1.01695492e-04, -8.15870531e-04,  4.79841168e-04,\n",
       "         1.11440560e-04, -5.56793297e-04, -1.10668923e-04,\n",
       "        -1.74042405e-04, -1.53596091e-04, -4.72835149e-04,\n",
       "        -8.47242191e-04,  1.21691759e-04,  3.89949098e-04,\n",
       "         2.81501707e-05,  7.41139462e-04,  8.32784455e-04,\n",
       "         3.73672927e-04, -9.97781754e-04,  1.63208373e-04,\n",
       "        -1.68014012e-04,  5.63937181e-04, -6.69736241e-04,\n",
       "         4.63201286e-04, -4.92761377e-04, -3.03146895e-04,\n",
       "         1.14745321e-03,  3.90616449e-04,  1.06127496e-04,\n",
       "         5.04933938e-04, -4.96195607e-05, -1.00247131e-03,\n",
       "        -4.50293795e-04,  6.31715811e-04, -1.30603183e-03,\n",
       "         1.59912556e-03],\n",
       "       [ 2.63056427e-05, -2.57329957e-04, -9.78375669e-04,\n",
       "        -1.19157186e-04, -4.80532006e-04, -2.80603941e-04,\n",
       "         1.56978087e-03,  1.73461798e-04, -1.06768501e-04,\n",
       "        -8.79788073e-04,  7.85538668e-06,  2.72866833e-04,\n",
       "        -2.64596514e-04, -7.67286576e-04, -6.58650533e-04,\n",
       "         1.19599674e-04, -6.63699582e-04,  5.25451673e-04,\n",
       "         7.78255708e-05, -9.16209683e-05,  9.73986753e-05,\n",
       "        -4.79798880e-04,  9.43230116e-04,  4.81391471e-04,\n",
       "        -6.24888053e-04, -1.12916366e-03,  1.71868852e-03,\n",
       "        -2.34879408e-04,  9.11518058e-04,  4.03075042e-04,\n",
       "         8.44444090e-04, -6.41514780e-04,  1.31190673e-03,\n",
       "        -1.76291575e-03,  3.81838006e-04,  3.31953430e-04,\n",
       "        -1.64531943e-04, -8.14927276e-04, -6.14831166e-04,\n",
       "         2.15814565e-04,  4.58231778e-04,  3.04373738e-04,\n",
       "        -7.19078234e-04, -6.17934202e-05, -3.06124450e-04,\n",
       "        -4.58955794e-04, -6.86777930e-05, -1.18496078e-04,\n",
       "        -6.64365129e-04,  4.76223155e-04,  1.33947446e-03,\n",
       "         5.64274495e-04, -5.71475539e-04, -3.82686907e-04,\n",
       "        -7.47404178e-04, -2.69462107e-05, -2.91392469e-04,\n",
       "        -1.73656736e-04,  3.70185560e-04, -2.08932892e-04,\n",
       "        -6.99134369e-04,  9.13827243e-05,  7.61765114e-04,\n",
       "         2.79030559e-04,  7.22045661e-04,  6.85129256e-04,\n",
       "         6.71380782e-04, -1.99698974e-04,  1.08660795e-04,\n",
       "         6.13718294e-04,  5.53847291e-04, -1.30405198e-04,\n",
       "         5.72359131e-04,  8.43530288e-04,  3.34848592e-04,\n",
       "         1.12148336e-04, -3.98257311e-04, -1.03348226e-03,\n",
       "        -2.64338469e-05, -7.15875125e-04,  6.38278259e-04,\n",
       "        -6.92190195e-04,  1.66087889e-03, -5.76368358e-04,\n",
       "         3.04012647e-04, -2.34530453e-05, -2.10142491e-04,\n",
       "         7.00571836e-05,  7.63380493e-04,  7.98807421e-04,\n",
       "        -7.65116478e-04, -4.08625230e-04,  6.35516131e-04,\n",
       "        -5.35902218e-04, -9.70669382e-04,  9.20291175e-04,\n",
       "         7.31387190e-05, -1.60849086e-04,  3.53404641e-04,\n",
       "        -3.78684461e-04]], dtype=float32)"
      ]
     },
     "execution_count": 25,
     "metadata": {},
     "output_type": "execute_result"
    }
   ],
   "source": [
    "# Check center in vectors\n",
    "kmeans.cluster_centers_"
   ]
  },
  {
   "cell_type": "code",
   "execution_count": 26,
   "id": "b5660f96",
   "metadata": {},
   "outputs": [
    {
     "data": {
      "text/plain": [
       "['Kc đồng_chí Hưng thực_hiện văn_bản gửi các Doanh nhiệp phát_hành trên địa_bàn tỉnh',\n",
       " 'Kc_Phòng TTBCXB phối_hợp với Văn_phòng tham_mưu đề_xuất',\n",
       " 'Kc đồng_chí Hưng liên_hệ đề_nghị gửi danh_mục sách đính kèm']"
      ]
     },
     "execution_count": 26,
     "metadata": {},
     "output_type": "execute_result"
    }
   ],
   "source": [
    "# Check centers in text\n",
    "cluster_centers_translation = [vectorize.wv.most_similar(positive=[x], topn=1)[0][0] for x in kmeans.cluster_centers_]\n",
    "cluster_centers_translation"
   ]
  },
  {
   "cell_type": "code",
   "execution_count": 29,
   "id": "b42a8586",
   "metadata": {},
   "outputs": [
    {
     "data": {
      "text/plain": [
       "(5293, 5225, 5380)"
      ]
     },
     "execution_count": 29,
     "metadata": {},
     "output_type": "execute_result"
    }
   ],
   "source": [
    "# Check number of elements in each group\n",
    "np.sum(kmeans.labels_==0), np.sum(kmeans.labels_==1), np.sum(kmeans.labels_==2)\n"
   ]
  },
  {
   "cell_type": "code",
   "execution_count": 31,
   "id": "67c13920",
   "metadata": {},
   "outputs": [
    {
     "data": {
      "text/plain": [
       "0.006544816"
      ]
     },
     "execution_count": 31,
     "metadata": {},
     "output_type": "execute_result"
    }
   ],
   "source": [
    "# Check Silhouette score\n",
    "silhouette_score(data, kmeans.labels_)"
   ]
  },
  {
   "cell_type": "code",
   "execution_count": 32,
   "id": "16a7764b",
   "metadata": {},
   "outputs": [],
   "source": [
    "############## Reclassification check ############"
   ]
  },
  {
   "cell_type": "code",
   "execution_count": 33,
   "id": "5eff0445",
   "metadata": {},
   "outputs": [],
   "source": [
    "from sklearn.model_selection import cross_validate, cross_val_score"
   ]
  },
  {
   "cell_type": "code",
   "execution_count": 34,
   "id": "488aed09",
   "metadata": {},
   "outputs": [
    {
     "data": {
      "text/plain": [
       "array([0.9663522 , 0.9672956 , 0.9672956 , 0.96539792, 0.9691727 ])"
      ]
     },
     "execution_count": 34,
     "metadata": {},
     "output_type": "execute_result"
    }
   ],
   "source": [
    "# Check with SVM accuracy score\n",
    "from sklearn.svm import SVC\n",
    "clf_model = SVC(kernel='rbf')\n",
    "scores = cross_val_score(clf_model, data, kmeans.labels_, cv=5)\n",
    "scores"
   ]
  },
  {
   "cell_type": "code",
   "execution_count": 35,
   "id": "f45f0efc",
   "metadata": {},
   "outputs": [
    {
     "data": {
      "text/plain": [
       "array([0.92798742, 0.93742138, 0.93710692, 0.93362693, 0.95092796])"
      ]
     },
     "execution_count": 35,
     "metadata": {},
     "output_type": "execute_result"
    }
   ],
   "source": [
    "# Check with KNN accuracy score\n",
    "from sklearn.neighbors import KNeighborsClassifier\n",
    "clf_model = KNeighborsClassifier(n_neighbors= 1500)\n",
    "scores = cross_val_score(clf_model, data, kmeans.labels_, cv=5)\n",
    "scores"
   ]
  },
  {
   "cell_type": "code",
   "execution_count": 36,
   "id": "bd851485",
   "metadata": {},
   "outputs": [
    {
     "data": {
      "text/plain": [
       "array([0.7827044 , 0.79056604, 0.77735849, 0.77665933, 0.79899339])"
      ]
     },
     "execution_count": 36,
     "metadata": {},
     "output_type": "execute_result"
    }
   ],
   "source": [
    "# Check with random forest accuracy score\n",
    "\n",
    "from sklearn.ensemble import RandomForestClassifier\n",
    "clf_model = RandomForestClassifier(n_estimators = 1000)\n",
    "scores = cross_val_score(clf_model, data, kmeans.labels_, cv=5)\n",
    "scores"
   ]
  },
  {
   "cell_type": "code",
   "execution_count": 37,
   "id": "7a3c21e4",
   "metadata": {},
   "outputs": [],
   "source": [
    "############# Find optimal cluster numbers (but it is not clear so far) ###########"
   ]
  },
  {
   "cell_type": "code",
   "execution_count": 40,
   "id": "691c3280",
   "metadata": {},
   "outputs": [
    {
     "name": "stdout",
     "output_type": "stream",
     "text": [
      "20/20"
     ]
    },
    {
     "data": {
      "image/png": "[encoded data removed]",
      "text/plain": [
       "<Figure size 1332x756 with 1 Axes>"
      ]
     },
     "metadata": {
      "needs_background": "light"
     },
     "output_type": "display_data"
    }
   ],
   "source": [
    "# Try using elbow method but still can not see the optimal number of clusterings\n",
    "\n",
    "inertias = np.empty((20))\n",
    "for k in range(1, 21):\n",
    "    kmeans_ = KMeans(n_clusters=k, random_state=42)\n",
    "    print(\"\\r{}/{}\".format(k, 20), end=\"\")\n",
    "    kmeans_.fit(data)\n",
    "    inertias[k-1] = kmeans_.inertia_\n",
    "    \n",
    "fig = plt.gcf()\n",
    "fig.set_size_inches(18.5, 10.5)\n",
    "fig.savefig('test2png.png', dpi=100)  \n",
    "x = range(1, 21)\n",
    "y = inertias\n",
    "  \n",
    "# plotting the points \n",
    "plt.plot(x, y, \"bo-\")\n",
    "  \n",
    "# naming the x axis\n",
    "plt.xlabel('k_clusters')\n",
    "# naming the y axis\n",
    "plt.ylabel('kmeans_.inertia_')\n",
    "plt.show()    "
   ]
  },
  {
   "cell_type": "code",
   "execution_count": 42,
   "id": "ab7f07e9",
   "metadata": {},
   "outputs": [
    {
     "name": "stdout",
     "output_type": "stream",
     "text": [
      "101/101"
     ]
    },
    {
     "data": {
      "image/png": "[encoded data removed]",
      "text/plain": [
       "<Figure size 1332x756 with 1 Axes>"
      ]
     },
     "metadata": {
      "needs_background": "light"
     },
     "output_type": "display_data"
    }
   ],
   "source": [
    "# Try using Silhouette score but still can not see the optimal number of clusterings\n",
    "\n",
    "sil_scores = []\n",
    "for k in range(2, 102):\n",
    "    kmeans_ = KMeans(n_clusters= k, random_state=42)\n",
    "    print(\"\\r{}/{}\".format(k, 101), end=\"\")\n",
    "    kmeans_.fit(data)\n",
    "    sil_scores.append(silhouette_score(data, kmeans_.labels_))\n",
    "    \n",
    "fig = plt.gcf()\n",
    "fig.set_size_inches(18.5, 10.5)\n",
    "fig.savefig('test2png.png', dpi=100)  \n",
    "x = range(2, len(sil_scores)+2)\n",
    "y = sil_scores\n",
    "  \n",
    "# plotting the points \n",
    "plt.plot(x, y, \"bo-\")\n",
    "  \n",
    "# naming the x axis\n",
    "plt.xlabel('k_clusters')\n",
    "# naming the y axis\n",
    "plt.ylabel('silhouette_score')\n",
    "plt.show()    "
   ]
  },
  {
   "cell_type": "code",
   "execution_count": null,
   "id": "3886e329",
   "metadata": {},
   "outputs": [],
   "source": []
  }
 ],
 "metadata": {
  "kernelspec": {
   "display_name": "Python 3 (ipykernel)",
   "language": "python",
   "name": "python3"
  },
  "language_info": {
   "codemirror_mode": {
    "name": "ipython",
    "version": 3
   },
   "file_extension": ".py",
   "mimetype": "text/x-python",
   "name": "python",
   "nbconvert_exporter": "python",
   "pygments_lexer": "ipython3",
   "version": "3.9.6"
  }
 },
 "nbformat": 4,
 "nbformat_minor": 5
}
